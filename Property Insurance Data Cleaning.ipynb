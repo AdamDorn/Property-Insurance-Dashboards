{
 "cells": [
  {
   "cell_type": "code",
   "execution_count": 5,
   "id": "499de83a",
   "metadata": {},
   "outputs": [
    {
     "name": "stdout",
     "output_type": "stream",
     "text": [
      "   QUOTE_DATE COVER_START CLAIM3YEARS P1_EMP_STATUS P1_PT_EMP_STATUS BUS_USE  \\\n",
      "0  11/22/2007  22/11/2007           N             R              NaN       N   \n",
      "1  11/22/2007  01/01/2008           N             E              NaN       Y   \n",
      "2  11/23/2007  23/11/2007           N             E              NaN       N   \n",
      "3  11/23/2007  12/12/2007           N             R              NaN       N   \n",
      "4  11/22/2007  15/12/2007           N             R              NaN       N   \n",
      "\n",
      "  CLERICAL AD_BUILDINGS  RISK_RATED_AREA_B  SUM_INSURED_BUILDINGS  ...  \\\n",
      "0      NaN            Y               19.0              1000000.0  ...   \n",
      "1        N            Y               25.0              1000000.0  ...   \n",
      "2      NaN            N                NaN                    0.0  ...   \n",
      "3      NaN            N                NaN                    0.0  ...   \n",
      "4      NaN            Y                5.0              1000000.0  ...   \n",
      "\n",
      "   HP3_ADDON_PRE_REN HP3_ADDON_POST_REN  MTA_FLAG  MTA_FAP  MTA_APRP  \\\n",
      "0                  N                  N         N      NaN       NaN   \n",
      "1                  N                  N         Y   308.83     -9.27   \n",
      "2                  N                  N         Y    52.65     52.65   \n",
      "3                  N                  N         N      NaN       NaN   \n",
      "4                  N                  N         N      NaN       NaN   \n",
      "\n",
      "     MTA_DATE LAST_ANN_PREM_GROSS  POL_STATUS  i   Police  \n",
      "0         NaN              274.81      Lapsed  1  P000001  \n",
      "1         NaN              308.83        Live  2  P000002  \n",
      "2  03/11/2010               52.65        Live  3  P000003  \n",
      "3         NaN               54.23        Live  4  P000004  \n",
      "4         NaN              244.58        Live  5  P000005  \n",
      "\n",
      "[5 rows x 66 columns]\n"
     ]
    }
   ],
   "source": [
    "#Import necessary libraries\n",
    "import pandas as pd\n",
    "import numpy as np\n",
    "import matplotlib.pyplot as plt\n",
    "import seaborn as sns\n",
    "\n",
    "#Create DataFrame from CSV file\n",
    "df = pd.read_csv(r'C:\\Users\\dorna\\OneDrive\\Desktop\\Data Training\\Projects\\Property Insurance Project\\home_insurance.csv')\n",
    "\n",
    "\n",
    "#Print the first 5 rows of the dataframe\n",
    "print(df.head())"
   ]
  },
  {
   "cell_type": "code",
   "execution_count": 7,
   "id": "c950a78c",
   "metadata": {},
   "outputs": [
    {
     "name": "stdout",
     "output_type": "stream",
     "text": [
      "Shape: (256136, 66)\n"
     ]
    }
   ],
   "source": [
    "#Dataframe shape\n",
    "print(\"Shape:\", df.shape)"
   ]
  },
  {
   "cell_type": "code",
   "execution_count": 10,
   "id": "d8e3a141",
   "metadata": {},
   "outputs": [
    {
     "name": "stdout",
     "output_type": "stream",
     "text": [
      "\n",
      "Data types:\n",
      " QUOTE_DATE              object\n",
      "COVER_START             object\n",
      "CLAIM3YEARS             object\n",
      "P1_EMP_STATUS           object\n",
      "P1_PT_EMP_STATUS        object\n",
      "                        ...   \n",
      "MTA_DATE                object\n",
      "LAST_ANN_PREM_GROSS    float64\n",
      "POL_STATUS              object\n",
      "i                        int64\n",
      "Police                  object\n",
      "Length: 66, dtype: object\n"
     ]
    }
   ],
   "source": [
    "#Data types\n",
    "print(\"\\nData types:\\n\", df.dtypes)"
   ]
  },
  {
   "cell_type": "code",
   "execution_count": 11,
   "id": "b7a5b1bb",
   "metadata": {},
   "outputs": [
    {
     "name": "stdout",
     "output_type": "stream",
     "text": [
      "\n",
      "Missing values per column:\n",
      " QUOTE_DATE             126612\n",
      "COVER_START             67115\n",
      "CLAIM3YEARS             66097\n",
      "P1_EMP_STATUS           67115\n",
      "P1_PT_EMP_STATUS       254354\n",
      "                        ...  \n",
      "MTA_DATE               229561\n",
      "LAST_ANN_PREM_GROSS     66097\n",
      "POL_STATUS              67115\n",
      "i                           0\n",
      "Police                      0\n",
      "Length: 66, dtype: int64\n"
     ]
    }
   ],
   "source": [
    "#Missing values\n",
    "print(\"\\nMissing values per column:\\n\", df.isnull().sum())"
   ]
  },
  {
   "cell_type": "code",
   "execution_count": 13,
   "id": "52f97b84",
   "metadata": {},
   "outputs": [
    {
     "data": {
      "text/plain": [
       "['quote_date',\n",
       " 'cover_start',\n",
       " 'claim3years',\n",
       " 'p1_emp_status',\n",
       " 'p1_pt_emp_status',\n",
       " 'bus_use',\n",
       " 'clerical',\n",
       " 'ad_buildings',\n",
       " 'risk_rated_area_b',\n",
       " 'sum_insured_buildings',\n",
       " 'ncd_granted_years_b',\n",
       " 'ad_contents',\n",
       " 'risk_rated_area_c',\n",
       " 'sum_insured_contents',\n",
       " 'ncd_granted_years_c',\n",
       " 'contents_cover',\n",
       " 'buildings_cover',\n",
       " 'spec_sum_insured',\n",
       " 'spec_item_prem',\n",
       " 'unspec_hrp_prem',\n",
       " 'p1_dob',\n",
       " 'p1_mar_status',\n",
       " 'p1_policy_refused',\n",
       " 'p1_sex',\n",
       " 'appr_alarm',\n",
       " 'appr_locks',\n",
       " 'bedrooms',\n",
       " 'roof_construction',\n",
       " 'wall_construction',\n",
       " 'flooding',\n",
       " 'listed',\n",
       " 'max_days_unocc',\n",
       " 'neigh_watch',\n",
       " 'occ_status',\n",
       " 'ownership_type',\n",
       " 'paying_guests',\n",
       " 'prop_type',\n",
       " 'safe_installed',\n",
       " 'sec_disc_req',\n",
       " 'subsidence',\n",
       " 'yearbuilt',\n",
       " 'campaign_desc',\n",
       " 'payment_method',\n",
       " 'payment_frequency',\n",
       " 'legal_addon_pre_ren',\n",
       " 'legal_addon_post_ren',\n",
       " 'home_em_addon_pre_ren',\n",
       " 'home_em_addon_post_ren',\n",
       " 'garden_addon_pre_ren',\n",
       " 'garden_addon_post_ren',\n",
       " 'keycare_addon_pre_ren',\n",
       " 'keycare_addon_post_ren',\n",
       " 'hp1_addon_pre_ren',\n",
       " 'hp1_addon_post_ren',\n",
       " 'hp2_addon_pre_ren',\n",
       " 'hp2_addon_post_ren',\n",
       " 'hp3_addon_pre_ren',\n",
       " 'hp3_addon_post_ren',\n",
       " 'mta_flag',\n",
       " 'mta_fap',\n",
       " 'mta_aprp',\n",
       " 'mta_date',\n",
       " 'last_ann_prem_gross',\n",
       " 'pol_status',\n",
       " 'i',\n",
       " 'police']"
      ]
     },
     "execution_count": 13,
     "metadata": {},
     "output_type": "execute_result"
    }
   ],
   "source": [
    "# Clean column names: lowercase, snake_case\n",
    "df.columns = (\n",
    "    df.columns.str.strip()\n",
    "              .str.lower()\n",
    "              .str.replace(' ', '_')\n",
    "              .str.replace(r'[^\\w\\s]', '', regex=True)\n",
    ")\n",
    "\n",
    "# Preview new column names\n",
    "df.columns.tolist()\n"
   ]
  },
  {
   "cell_type": "code",
   "execution_count": 14,
   "id": "f4a2d0df",
   "metadata": {},
   "outputs": [
    {
     "name": "stderr",
     "output_type": "stream",
     "text": [
      "C:\\Users\\dorna\\AppData\\Local\\Temp\\ipykernel_23112\\3386718837.py:5: UserWarning: Parsing dates in %m/%d/%Y format when dayfirst=True was specified. Pass `dayfirst=False` or specify a format to silence this warning.\n",
      "  df[col] = pd.to_datetime(df[col], errors='coerce', dayfirst=True)\n"
     ]
    },
    {
     "data": {
      "text/plain": [
       "quote_date     datetime64[ns]\n",
       "cover_start    datetime64[ns]\n",
       "mta_date       datetime64[ns]\n",
       "dtype: object"
      ]
     },
     "execution_count": 14,
     "metadata": {},
     "output_type": "execute_result"
    }
   ],
   "source": [
    "# Convert date columns to datetime\n",
    "date_columns = ['quote_date', 'cover_start', 'mta_date']\n",
    "\n",
    "for col in date_columns:\n",
    "    df[col] = pd.to_datetime(df[col], errors='coerce', dayfirst=True)\n",
    "\n",
    "# Check conversion\n",
    "df[date_columns].dtypes\n"
   ]
  },
  {
   "cell_type": "code",
   "execution_count": 15,
   "id": "ac85f95b",
   "metadata": {},
   "outputs": [
    {
     "data": {
      "text/plain": [
       "campaign_desc          100.00\n",
       "p1_pt_emp_status        99.30\n",
       "clerical                98.85\n",
       "mta_date                89.62\n",
       "mta_aprp                78.25\n",
       "                        ...  \n",
       "hp3_addon_pre_ren       26.20\n",
       "pol_status              26.20\n",
       "claim3years             25.81\n",
       "mta_flag                25.81\n",
       "last_ann_prem_gross     25.81\n",
       "Length: 64, dtype: float64"
      ]
     },
     "execution_count": 15,
     "metadata": {},
     "output_type": "execute_result"
    }
   ],
   "source": [
    "# Check percentage of missing values per column\n",
    "missing = df.isnull().mean().sort_values(ascending=False) * 100\n",
    "missing[missing > 0].round(2)\n"
   ]
  },
  {
   "cell_type": "code",
   "execution_count": 16,
   "id": "a3620c0a",
   "metadata": {},
   "outputs": [],
   "source": [
    "# Drop columns with extremely high missing values\n",
    "df.drop(columns=['campaign_desc', 'p1_pt_emp_status', 'clerical'], inplace=True)\n"
   ]
  },
  {
   "cell_type": "code",
   "execution_count": 17,
   "id": "26379103",
   "metadata": {},
   "outputs": [],
   "source": [
    "#Fill missing values in categorical columns with 'N'\n",
    "addon_cols = [col for col in df.columns if '_addon_' in col]\n",
    "df[addon_cols] = df[addon_cols].fillna('N')\n"
   ]
  },
  {
   "cell_type": "code",
   "execution_count": 18,
   "id": "bdcf0f9b",
   "metadata": {},
   "outputs": [
    {
     "name": "stderr",
     "output_type": "stream",
     "text": [
      "C:\\Users\\dorna\\AppData\\Local\\Temp\\ipykernel_23112\\3989212897.py:2: FutureWarning: A value is trying to be set on a copy of a DataFrame or Series through chained assignment using an inplace method.\n",
      "The behavior will change in pandas 3.0. This inplace method will never work because the intermediate object on which we are setting values always behaves as a copy.\n",
      "\n",
      "For example, when doing 'df[col].method(value, inplace=True)', try using 'df.method({col: value}, inplace=True)' or df[col] = df[col].method(value) instead, to perform the operation inplace on the original object.\n",
      "\n",
      "\n",
      "  df['claim3years'].fillna(df['claim3years'].mode()[0], inplace=True)\n",
      "C:\\Users\\dorna\\AppData\\Local\\Temp\\ipykernel_23112\\3989212897.py:3: FutureWarning: A value is trying to be set on a copy of a DataFrame or Series through chained assignment using an inplace method.\n",
      "The behavior will change in pandas 3.0. This inplace method will never work because the intermediate object on which we are setting values always behaves as a copy.\n",
      "\n",
      "For example, when doing 'df[col].method(value, inplace=True)', try using 'df.method({col: value}, inplace=True)' or df[col] = df[col].method(value) instead, to perform the operation inplace on the original object.\n",
      "\n",
      "\n",
      "  df['mta_flag'].fillna('N', inplace=True)\n",
      "C:\\Users\\dorna\\AppData\\Local\\Temp\\ipykernel_23112\\3989212897.py:4: FutureWarning: A value is trying to be set on a copy of a DataFrame or Series through chained assignment using an inplace method.\n",
      "The behavior will change in pandas 3.0. This inplace method will never work because the intermediate object on which we are setting values always behaves as a copy.\n",
      "\n",
      "For example, when doing 'df[col].method(value, inplace=True)', try using 'df.method({col: value}, inplace=True)' or df[col] = df[col].method(value) instead, to perform the operation inplace on the original object.\n",
      "\n",
      "\n",
      "  df['pol_status'].fillna(df['pol_status'].mode()[0], inplace=True)\n"
     ]
    }
   ],
   "source": [
    "#Fill missing values in categorical columns with 'N'\n",
    "df['claim3years'].fillna(df['claim3years'].mode()[0], inplace=True)\n",
    "df['mta_flag'].fillna('N', inplace=True)\n",
    "df['pol_status'].fillna(df['pol_status'].mode()[0], inplace=True)\n"
   ]
  },
  {
   "cell_type": "code",
   "execution_count": 19,
   "id": "1b5c272c",
   "metadata": {},
   "outputs": [
    {
     "name": "stdout",
     "output_type": "stream",
     "text": [
      "mta_date                 89.62\n",
      "mta_fap                  78.25\n",
      "mta_aprp                 78.25\n",
      "payment_frequency        68.55\n",
      "quote_date               49.43\n",
      "risk_rated_area_b        45.00\n",
      "risk_rated_area_c        29.61\n",
      "sum_insured_contents     26.20\n",
      "sum_insured_buildings    26.20\n",
      "ncd_granted_years_b      26.20\n",
      "ad_contents              26.20\n",
      "bus_use                  26.20\n",
      "p1_emp_status            26.20\n",
      "ad_buildings             26.20\n",
      "cover_start              26.20\n",
      "appr_locks               26.20\n",
      "spec_item_prem           26.20\n",
      "unspec_hrp_prem          26.20\n",
      "p1_dob                   26.20\n",
      "p1_mar_status            26.20\n",
      "p1_policy_refused        26.20\n",
      "p1_sex                   26.20\n",
      "appr_alarm               26.20\n",
      "flooding                 26.20\n",
      "bedrooms                 26.20\n",
      "roof_construction        26.20\n",
      "wall_construction        26.20\n",
      "contents_cover           26.20\n",
      "ncd_granted_years_c      26.20\n",
      "buildings_cover          26.20\n",
      "spec_sum_insured         26.20\n",
      "yearbuilt                26.20\n",
      "neigh_watch              26.20\n",
      "listed                   26.20\n",
      "max_days_unocc           26.20\n",
      "safe_installed           26.20\n",
      "occ_status               26.20\n",
      "paying_guests            26.20\n",
      "ownership_type           26.20\n",
      "sec_disc_req             26.20\n",
      "payment_method           26.20\n",
      "subsidence               26.20\n",
      "prop_type                26.20\n",
      "last_ann_prem_gross      25.81\n",
      "dtype: float64\n"
     ]
    }
   ],
   "source": [
    "#Check percentage of missing values per column after filling\n",
    "missing_remaining = df.isnull().mean().sort_values(ascending=False) * 100\n",
    "print(missing_remaining[missing_remaining > 0].round(2))\n"
   ]
  },
  {
   "cell_type": "code",
   "execution_count": 22,
   "id": "e025ceff",
   "metadata": {},
   "outputs": [],
   "source": [
    "# Drop columns with >75% missing except for MTA columns, which will be flagged\n",
    "high_missing_cols = ['mta_date', 'mta_fap', 'mta_aprp']\n",
    "\n",
    "# Create flag column for 'mta_date' presence\n",
    "df['has_mta_date'] = df['mta_date'].notnull().astype(int)\n",
    "\n",
    "# Drop these columns (mta_fap and mta_aprp) due to very high missingness\n",
    "df.drop(columns=['mta_fap', 'mta_aprp'], inplace=True, errors='ignore')\n"
   ]
  },
  {
   "cell_type": "code",
   "execution_count": 23,
   "id": "a8b3379a",
   "metadata": {},
   "outputs": [
    {
     "name": "stderr",
     "output_type": "stream",
     "text": [
      "C:\\Users\\dorna\\AppData\\Local\\Temp\\ipykernel_23112\\261067464.py:2: FutureWarning: A value is trying to be set on a copy of a DataFrame or Series through chained assignment using an inplace method.\n",
      "The behavior will change in pandas 3.0. This inplace method will never work because the intermediate object on which we are setting values always behaves as a copy.\n",
      "\n",
      "For example, when doing 'df[col].method(value, inplace=True)', try using 'df.method({col: value}, inplace=True)' or df[col] = df[col].method(value) instead, to perform the operation inplace on the original object.\n",
      "\n",
      "\n",
      "  df['payment_frequency'].fillna('Unknown', inplace=True)\n",
      "C:\\Users\\dorna\\AppData\\Local\\Temp\\ipykernel_23112\\261067464.py:2: FutureWarning: Setting an item of incompatible dtype is deprecated and will raise an error in a future version of pandas. Value 'Unknown' has dtype incompatible with float64, please explicitly cast to a compatible dtype first.\n",
      "  df['payment_frequency'].fillna('Unknown', inplace=True)\n"
     ]
    }
   ],
   "source": [
    "# Fill missing payment_frequency with 'Unknown'\n",
    "df['payment_frequency'].fillna('Unknown', inplace=True)\n"
   ]
  },
  {
   "cell_type": "code",
   "execution_count": 24,
   "id": "cfbd0e48",
   "metadata": {},
   "outputs": [
    {
     "name": "stderr",
     "output_type": "stream",
     "text": [
      "C:\\Users\\dorna\\AppData\\Local\\Temp\\ipykernel_23112\\2241885118.py:13: FutureWarning: A value is trying to be set on a copy of a DataFrame or Series through chained assignment using an inplace method.\n",
      "The behavior will change in pandas 3.0. This inplace method will never work because the intermediate object on which we are setting values always behaves as a copy.\n",
      "\n",
      "For example, when doing 'df[col].method(value, inplace=True)', try using 'df.method({col: value}, inplace=True)' or df[col] = df[col].method(value) instead, to perform the operation inplace on the original object.\n",
      "\n",
      "\n",
      "  df[col].fillna('Unknown', inplace=True)\n",
      "C:\\Users\\dorna\\AppData\\Local\\Temp\\ipykernel_23112\\2241885118.py:13: FutureWarning: Setting an item of incompatible dtype is deprecated and will raise an error in a future version of pandas. Value 'Unknown' has dtype incompatible with float64, please explicitly cast to a compatible dtype first.\n",
      "  df[col].fillna('Unknown', inplace=True)\n"
     ]
    }
   ],
   "source": [
    "# List of categorical columns to fill with 'Unknown'\n",
    "cat_cols_to_fill = [\n",
    "    'p1_emp_status', 'p1_pt_emp_status', 'p1_mar_status', 'p1_policy_refused', 'p1_sex',\n",
    "    'ad_buildings', 'ad_contents', 'bus_use', 'appr_alarm', 'appr_locks', 'roof_construction',\n",
    "    'wall_construction', 'contents_cover', 'buildings_cover', 'neigh_watch', 'listed',\n",
    "    'safe_installed', 'occ_status', 'paying_guests', 'ownership_type', 'sec_disc_req',\n",
    "    'payment_method', 'prop_type', 'subsidence', 'campaign_desc', 'clerical', 'claim3years',\n",
    "    'mta_flag', 'pol_status', 'bus_use'\n",
    "]\n",
    "\n",
    "for col in cat_cols_to_fill:\n",
    "    if col in df.columns:\n",
    "        df[col].fillna('Unknown', inplace=True)\n"
   ]
  },
  {
   "cell_type": "code",
   "execution_count": 25,
   "id": "45d35607",
   "metadata": {},
   "outputs": [
    {
     "name": "stderr",
     "output_type": "stream",
     "text": [
      "C:\\Users\\dorna\\AppData\\Local\\Temp\\ipykernel_23112\\1900532365.py:8: FutureWarning: A value is trying to be set on a copy of a DataFrame or Series through chained assignment using an inplace method.\n",
      "The behavior will change in pandas 3.0. This inplace method will never work because the intermediate object on which we are setting values always behaves as a copy.\n",
      "\n",
      "For example, when doing 'df[col].method(value, inplace=True)', try using 'df.method({col: value}, inplace=True)' or df[col] = df[col].method(value) instead, to perform the operation inplace on the original object.\n",
      "\n",
      "\n",
      "  df['quote_date'].fillna(placeholder_date, inplace=True)\n",
      "C:\\Users\\dorna\\AppData\\Local\\Temp\\ipykernel_23112\\1900532365.py:9: FutureWarning: A value is trying to be set on a copy of a DataFrame or Series through chained assignment using an inplace method.\n",
      "The behavior will change in pandas 3.0. This inplace method will never work because the intermediate object on which we are setting values always behaves as a copy.\n",
      "\n",
      "For example, when doing 'df[col].method(value, inplace=True)', try using 'df.method({col: value}, inplace=True)' or df[col] = df[col].method(value) instead, to perform the operation inplace on the original object.\n",
      "\n",
      "\n",
      "  df['cover_start'].fillna(placeholder_date, inplace=True)\n"
     ]
    }
   ],
   "source": [
    "# Create flags for missing dates\n",
    "df['quote_date_missing'] = df['quote_date'].isnull().astype(int)\n",
    "df['cover_start_missing'] = df['cover_start'].isnull().astype(int)\n",
    "\n",
    "# Fill missing dates with a placeholder date\n",
    "placeholder_date = pd.to_datetime('1900-01-01')\n",
    "\n",
    "df['quote_date'].fillna(placeholder_date, inplace=True)\n",
    "df['cover_start'].fillna(placeholder_date, inplace=True)\n"
   ]
  },
  {
   "cell_type": "code",
   "execution_count": null,
   "id": "b46227fa",
   "metadata": {},
   "outputs": [
    {
     "name": "stderr",
     "output_type": "stream",
     "text": [
      "C:\\Users\\dorna\\AppData\\Local\\Temp\\ipykernel_23112\\2533581600.py:2: FutureWarning: A value is trying to be set on a copy of a DataFrame or Series through chained assignment using an inplace method.\n",
      "The behavior will change in pandas 3.0. This inplace method will never work because the intermediate object on which we are setting values always behaves as a copy.\n",
      "\n",
      "For example, when doing 'df[col].method(value, inplace=True)', try using 'df.method({col: value}, inplace=True)' or df[col] = df[col].method(value) instead, to perform the operation inplace on the original object.\n",
      "\n",
      "\n",
      "  df['last_ann_prem_gross'].fillna(df['last_ann_prem_gross'].median(), inplace=True)\n"
     ]
    }
   ],
   "source": [
    "# Fill numeric columns with median\n",
    "df['last_ann_prem_gross'].fillna(df['last_ann_prem_gross'].median(), inplace=True)\n"
   ]
  },
  {
   "cell_type": "code",
   "execution_count": 27,
   "id": "7133c0a9",
   "metadata": {},
   "outputs": [
    {
     "name": "stdout",
     "output_type": "stream",
     "text": [
      "Missing percentages after cleaning:\n",
      " risk_rated_area_b        44.999531\n",
      "sum_insured_buildings    26.202877\n",
      "ncd_granted_years_b      26.202877\n",
      "risk_rated_area_c        29.611613\n",
      "sum_insured_contents     26.202877\n",
      "ncd_granted_years_c      26.202877\n",
      "spec_sum_insured         26.202877\n",
      "spec_item_prem           26.202877\n",
      "unspec_hrp_prem          26.202877\n",
      "p1_dob                   26.202877\n",
      "bedrooms                 26.202877\n",
      "flooding                 26.202877\n",
      "max_days_unocc           26.202877\n",
      "yearbuilt                26.202877\n",
      "mta_date                 89.624653\n",
      "dtype: float64\n"
     ]
    }
   ],
   "source": [
    "#Check percentage of missing values per column after filling\n",
    "missing_after_clean = df.isnull().mean() * 100\n",
    "print(\"Missing percentages after cleaning:\\n\", missing_after_clean[missing_after_clean > 0])\n"
   ]
  },
  {
   "cell_type": "code",
   "execution_count": 28,
   "id": "2d537369",
   "metadata": {},
   "outputs": [
    {
     "name": "stderr",
     "output_type": "stream",
     "text": [
      "C:\\Users\\dorna\\AppData\\Local\\Temp\\ipykernel_23112\\3179176393.py:2: FutureWarning: A value is trying to be set on a copy of a DataFrame or Series through chained assignment using an inplace method.\n",
      "The behavior will change in pandas 3.0. This inplace method will never work because the intermediate object on which we are setting values always behaves as a copy.\n",
      "\n",
      "For example, when doing 'df[col].method(value, inplace=True)', try using 'df.method({col: value}, inplace=True)' or df[col] = df[col].method(value) instead, to perform the operation inplace on the original object.\n",
      "\n",
      "\n",
      "  df['risk_rated_area_b'].fillna('Unknown', inplace=True)\n",
      "C:\\Users\\dorna\\AppData\\Local\\Temp\\ipykernel_23112\\3179176393.py:2: FutureWarning: Setting an item of incompatible dtype is deprecated and will raise an error in a future version of pandas. Value 'Unknown' has dtype incompatible with float64, please explicitly cast to a compatible dtype first.\n",
      "  df['risk_rated_area_b'].fillna('Unknown', inplace=True)\n",
      "C:\\Users\\dorna\\AppData\\Local\\Temp\\ipykernel_23112\\3179176393.py:3: FutureWarning: A value is trying to be set on a copy of a DataFrame or Series through chained assignment using an inplace method.\n",
      "The behavior will change in pandas 3.0. This inplace method will never work because the intermediate object on which we are setting values always behaves as a copy.\n",
      "\n",
      "For example, when doing 'df[col].method(value, inplace=True)', try using 'df.method({col: value}, inplace=True)' or df[col] = df[col].method(value) instead, to perform the operation inplace on the original object.\n",
      "\n",
      "\n",
      "  df['risk_rated_area_c'].fillna('Unknown', inplace=True)\n",
      "C:\\Users\\dorna\\AppData\\Local\\Temp\\ipykernel_23112\\3179176393.py:3: FutureWarning: Setting an item of incompatible dtype is deprecated and will raise an error in a future version of pandas. Value 'Unknown' has dtype incompatible with float64, please explicitly cast to a compatible dtype first.\n",
      "  df['risk_rated_area_c'].fillna('Unknown', inplace=True)\n",
      "C:\\Users\\dorna\\AppData\\Local\\Temp\\ipykernel_23112\\3179176393.py:4: FutureWarning: A value is trying to be set on a copy of a DataFrame or Series through chained assignment using an inplace method.\n",
      "The behavior will change in pandas 3.0. This inplace method will never work because the intermediate object on which we are setting values always behaves as a copy.\n",
      "\n",
      "For example, when doing 'df[col].method(value, inplace=True)', try using 'df.method({col: value}, inplace=True)' or df[col] = df[col].method(value) instead, to perform the operation inplace on the original object.\n",
      "\n",
      "\n",
      "  df['flooding'].fillna('Unknown', inplace=True)\n"
     ]
    }
   ],
   "source": [
    "#Fill missing values in categorical columns with unknown\n",
    "df['risk_rated_area_b'].fillna('Unknown', inplace=True)\n",
    "df['risk_rated_area_c'].fillna('Unknown', inplace=True)\n",
    "df['flooding'].fillna('Unknown', inplace=True)\n"
   ]
  },
  {
   "cell_type": "code",
   "execution_count": 29,
   "id": "506c2c6e",
   "metadata": {},
   "outputs": [
    {
     "name": "stdout",
     "output_type": "stream",
     "text": [
      "risk_rated_area_b    0\n",
      "risk_rated_area_c    0\n",
      "flooding             0\n",
      "dtype: int64\n"
     ]
    }
   ],
   "source": [
    "#Check sum of missing values in specific columns\n",
    "print(df[['risk_rated_area_b', 'risk_rated_area_c', 'flooding']].isnull().sum())\n"
   ]
  },
  {
   "cell_type": "code",
   "execution_count": 30,
   "id": "22ae98f8",
   "metadata": {},
   "outputs": [
    {
     "name": "stdout",
     "output_type": "stream",
     "text": [
      "sum_insured_buildings    0\n",
      "ncd_granted_years_b      0\n",
      "sum_insured_contents     0\n",
      "ncd_granted_years_c      0\n",
      "spec_sum_insured         0\n",
      "spec_item_prem           0\n",
      "unspec_hrp_prem          0\n",
      "bedrooms                 0\n",
      "max_days_unocc           0\n",
      "yearbuilt                0\n",
      "dtype: int64\n"
     ]
    },
    {
     "name": "stderr",
     "output_type": "stream",
     "text": [
      "C:\\Users\\dorna\\AppData\\Local\\Temp\\ipykernel_23112\\131826748.py:7: FutureWarning: A value is trying to be set on a copy of a DataFrame or Series through chained assignment using an inplace method.\n",
      "The behavior will change in pandas 3.0. This inplace method will never work because the intermediate object on which we are setting values always behaves as a copy.\n",
      "\n",
      "For example, when doing 'df[col].method(value, inplace=True)', try using 'df.method({col: value}, inplace=True)' or df[col] = df[col].method(value) instead, to perform the operation inplace on the original object.\n",
      "\n",
      "\n",
      "  df[col].fillna(median_val, inplace=True)\n",
      "C:\\Users\\dorna\\AppData\\Local\\Temp\\ipykernel_23112\\131826748.py:7: FutureWarning: A value is trying to be set on a copy of a DataFrame or Series through chained assignment using an inplace method.\n",
      "The behavior will change in pandas 3.0. This inplace method will never work because the intermediate object on which we are setting values always behaves as a copy.\n",
      "\n",
      "For example, when doing 'df[col].method(value, inplace=True)', try using 'df.method({col: value}, inplace=True)' or df[col] = df[col].method(value) instead, to perform the operation inplace on the original object.\n",
      "\n",
      "\n",
      "  df[col].fillna(median_val, inplace=True)\n",
      "C:\\Users\\dorna\\AppData\\Local\\Temp\\ipykernel_23112\\131826748.py:7: FutureWarning: A value is trying to be set on a copy of a DataFrame or Series through chained assignment using an inplace method.\n",
      "The behavior will change in pandas 3.0. This inplace method will never work because the intermediate object on which we are setting values always behaves as a copy.\n",
      "\n",
      "For example, when doing 'df[col].method(value, inplace=True)', try using 'df.method({col: value}, inplace=True)' or df[col] = df[col].method(value) instead, to perform the operation inplace on the original object.\n",
      "\n",
      "\n",
      "  df[col].fillna(median_val, inplace=True)\n",
      "C:\\Users\\dorna\\AppData\\Local\\Temp\\ipykernel_23112\\131826748.py:7: FutureWarning: A value is trying to be set on a copy of a DataFrame or Series through chained assignment using an inplace method.\n",
      "The behavior will change in pandas 3.0. This inplace method will never work because the intermediate object on which we are setting values always behaves as a copy.\n",
      "\n",
      "For example, when doing 'df[col].method(value, inplace=True)', try using 'df.method({col: value}, inplace=True)' or df[col] = df[col].method(value) instead, to perform the operation inplace on the original object.\n",
      "\n",
      "\n",
      "  df[col].fillna(median_val, inplace=True)\n",
      "C:\\Users\\dorna\\AppData\\Local\\Temp\\ipykernel_23112\\131826748.py:7: FutureWarning: A value is trying to be set on a copy of a DataFrame or Series through chained assignment using an inplace method.\n",
      "The behavior will change in pandas 3.0. This inplace method will never work because the intermediate object on which we are setting values always behaves as a copy.\n",
      "\n",
      "For example, when doing 'df[col].method(value, inplace=True)', try using 'df.method({col: value}, inplace=True)' or df[col] = df[col].method(value) instead, to perform the operation inplace on the original object.\n",
      "\n",
      "\n",
      "  df[col].fillna(median_val, inplace=True)\n",
      "C:\\Users\\dorna\\AppData\\Local\\Temp\\ipykernel_23112\\131826748.py:7: FutureWarning: A value is trying to be set on a copy of a DataFrame or Series through chained assignment using an inplace method.\n",
      "The behavior will change in pandas 3.0. This inplace method will never work because the intermediate object on which we are setting values always behaves as a copy.\n",
      "\n",
      "For example, when doing 'df[col].method(value, inplace=True)', try using 'df.method({col: value}, inplace=True)' or df[col] = df[col].method(value) instead, to perform the operation inplace on the original object.\n",
      "\n",
      "\n",
      "  df[col].fillna(median_val, inplace=True)\n",
      "C:\\Users\\dorna\\AppData\\Local\\Temp\\ipykernel_23112\\131826748.py:7: FutureWarning: A value is trying to be set on a copy of a DataFrame or Series through chained assignment using an inplace method.\n",
      "The behavior will change in pandas 3.0. This inplace method will never work because the intermediate object on which we are setting values always behaves as a copy.\n",
      "\n",
      "For example, when doing 'df[col].method(value, inplace=True)', try using 'df.method({col: value}, inplace=True)' or df[col] = df[col].method(value) instead, to perform the operation inplace on the original object.\n",
      "\n",
      "\n",
      "  df[col].fillna(median_val, inplace=True)\n",
      "C:\\Users\\dorna\\AppData\\Local\\Temp\\ipykernel_23112\\131826748.py:7: FutureWarning: A value is trying to be set on a copy of a DataFrame or Series through chained assignment using an inplace method.\n",
      "The behavior will change in pandas 3.0. This inplace method will never work because the intermediate object on which we are setting values always behaves as a copy.\n",
      "\n",
      "For example, when doing 'df[col].method(value, inplace=True)', try using 'df.method({col: value}, inplace=True)' or df[col] = df[col].method(value) instead, to perform the operation inplace on the original object.\n",
      "\n",
      "\n",
      "  df[col].fillna(median_val, inplace=True)\n",
      "C:\\Users\\dorna\\AppData\\Local\\Temp\\ipykernel_23112\\131826748.py:7: FutureWarning: A value is trying to be set on a copy of a DataFrame or Series through chained assignment using an inplace method.\n",
      "The behavior will change in pandas 3.0. This inplace method will never work because the intermediate object on which we are setting values always behaves as a copy.\n",
      "\n",
      "For example, when doing 'df[col].method(value, inplace=True)', try using 'df.method({col: value}, inplace=True)' or df[col] = df[col].method(value) instead, to perform the operation inplace on the original object.\n",
      "\n",
      "\n",
      "  df[col].fillna(median_val, inplace=True)\n",
      "C:\\Users\\dorna\\AppData\\Local\\Temp\\ipykernel_23112\\131826748.py:7: FutureWarning: A value is trying to be set on a copy of a DataFrame or Series through chained assignment using an inplace method.\n",
      "The behavior will change in pandas 3.0. This inplace method will never work because the intermediate object on which we are setting values always behaves as a copy.\n",
      "\n",
      "For example, when doing 'df[col].method(value, inplace=True)', try using 'df.method({col: value}, inplace=True)' or df[col] = df[col].method(value) instead, to perform the operation inplace on the original object.\n",
      "\n",
      "\n",
      "  df[col].fillna(median_val, inplace=True)\n"
     ]
    }
   ],
   "source": [
    "#Fill missing values in categorical columns with median\n",
    "num_cols = ['sum_insured_buildings', 'ncd_granted_years_b', 'sum_insured_contents', 'ncd_granted_years_c',\n",
    "            'spec_sum_insured', 'spec_item_prem', 'unspec_hrp_prem', 'bedrooms', 'max_days_unocc', 'yearbuilt']\n",
    "\n",
    "for col in num_cols:\n",
    "    median_val = df[col].median()\n",
    "    df[col].fillna(median_val, inplace=True)\n",
    "\n",
    "# Check for any remaining nulls in those columns\n",
    "print(df[num_cols].isnull().sum())\n"
   ]
  },
  {
   "cell_type": "code",
   "execution_count": 31,
   "id": "bb46ab20",
   "metadata": {},
   "outputs": [
    {
     "name": "stdout",
     "output_type": "stream",
     "text": [
      "0\n"
     ]
    },
    {
     "name": "stderr",
     "output_type": "stream",
     "text": [
      "C:\\Users\\dorna\\AppData\\Local\\Temp\\ipykernel_23112\\3556091862.py:2: UserWarning: Parsing dates in %d/%m/%Y format when dayfirst=False (the default) was specified. Pass `dayfirst=True` or specify a format to silence this warning.\n",
      "  df['p1_dob'] = pd.to_datetime(df['p1_dob'], errors='coerce')\n",
      "C:\\Users\\dorna\\AppData\\Local\\Temp\\ipykernel_23112\\3556091862.py:4: FutureWarning: A value is trying to be set on a copy of a DataFrame or Series through chained assignment using an inplace method.\n",
      "The behavior will change in pandas 3.0. This inplace method will never work because the intermediate object on which we are setting values always behaves as a copy.\n",
      "\n",
      "For example, when doing 'df[col].method(value, inplace=True)', try using 'df.method({col: value}, inplace=True)' or df[col] = df[col].method(value) instead, to perform the operation inplace on the original object.\n",
      "\n",
      "\n",
      "  df['p1_dob'].fillna(median_dob, inplace=True)\n"
     ]
    }
   ],
   "source": [
    "#Fill missing values in categorical columns with median\n",
    "df['p1_dob'] = pd.to_datetime(df['p1_dob'], errors='coerce')\n",
    "median_dob = df['p1_dob'].median()\n",
    "df['p1_dob'].fillna(median_dob, inplace=True)\n",
    "\n",
    "print(df['p1_dob'].isnull().sum())\n"
   ]
  },
  {
   "cell_type": "code",
   "execution_count": 32,
   "id": "db1ee2e7",
   "metadata": {},
   "outputs": [
    {
     "name": "stdout",
     "output_type": "stream",
     "text": [
      "mta_date_present\n",
      "0    229561\n",
      "1     26575\n",
      "Name: count, dtype: int64\n"
     ]
    }
   ],
   "source": [
    "#Drop columns with >75% missing except for MTA columns, which will be flagged\n",
    "df['mta_date_present'] = df['mta_date'].notnull().astype(int)\n",
    "df.drop(columns=['mta_date'], inplace=True)\n",
    "\n",
    "print(df['mta_date_present'].value_counts())\n"
   ]
  },
  {
   "cell_type": "code",
   "execution_count": 34,
   "id": "f4df9441",
   "metadata": {},
   "outputs": [],
   "source": [
    "df.rename(columns={\n",
    "    'quote_date': 'Quote Date',\n",
    "    'cover_start': 'Policy Start Date',\n",
    "    'claim3years': 'Claim in Last 3 Years',\n",
    "    'p1_emp_status': 'Primary Employment Status',\n",
    "    'p1_pt_emp_status': 'Part-Time Employment',\n",
    "    'bus_use': 'Business Use',\n",
    "    'clerical': 'Clerical Work Only',\n",
    "    'ad_buildings': 'Buildings Accidental Damage',\n",
    "    'risk_rated_area_b': 'Building Risk Area',\n",
    "    'sum_insured_buildings': 'Building Sum Insured',\n",
    "    'ncd_granted_years_b': 'Building No-Claim Years',\n",
    "    'ad_contents': 'Contents Accidental Damage',\n",
    "    'risk_rated_area_c': 'Contents Risk Area',\n",
    "    'sum_insured_contents': 'Contents Sum Insured',\n",
    "    'ncd_granted_years_c': 'Contents No-Claim Years',\n",
    "    'contents_cover': 'Has Contents Cover',\n",
    "    'buildings_cover': 'Has Buildings Cover',\n",
    "    'spec_sum_insured': 'Specified Items Value',\n",
    "    'spec_item_prem': 'Specified Items Premium',\n",
    "    'unspec_hrp_prem': 'Unspecified High Risk Premium',\n",
    "    'p1_dob': 'Primary DOB',\n",
    "    'p1_mar_status': 'Marital Status',\n",
    "    'p1_policy_refused': 'Policy Ever Refused',\n",
    "    'p1_sex': 'Gender',\n",
    "    'appr_alarm': 'Approved Alarm',\n",
    "    'appr_locks': 'Approved Locks',\n",
    "    'bedrooms': 'Number of Bedrooms',\n",
    "    'roof_construction': 'Roof Construction Type',\n",
    "    'wall_construction': 'Wall Construction Type',\n",
    "    'flooding': 'Flood Risk',\n",
    "    'listed': 'Listed Property',\n",
    "    'max_days_unocc': 'Max Days Unoccupied',\n",
    "    'neigh_watch': 'Neighborhood Watch',\n",
    "    'occ_status': 'Occupancy Status',\n",
    "    'ownership_type': 'Ownership Type',\n",
    "    'paying_guests': 'Has Paying Guests',\n",
    "    'prop_type': 'Property Type',\n",
    "    'safe_installed': 'Safe Installed',\n",
    "    'sec_disc_req': 'Security Discount Requested',\n",
    "    'subsidence': 'Subsidence Risk',\n",
    "    'yearbuilt': 'Year Built',\n",
    "    'campaign_desc': 'Marketing Campaign',\n",
    "    'payment_method': 'Payment Method',\n",
    "    'payment_frequency': 'Payment Frequency',\n",
    "    'legal_addon_pre_ren': 'Legal Cover Pre-Renewal',\n",
    "    'legal_addon_post_ren': 'Legal Cover Post-Renewal',\n",
    "    'home_em_addon_pre_ren': 'Home Emergency Pre-Renewal',\n",
    "    'home_em_addon_post_ren': 'Home Emergency Post-Renewal',\n",
    "    'garden_addon_pre_ren': 'Garden Cover Pre-Renewal',\n",
    "    'garden_addon_post_ren': 'Garden Cover Post-Renewal',\n",
    "    'keycare_addon_pre_ren': 'Keycare Pre-Renewal',\n",
    "    'keycare_addon_post_ren': 'Keycare Post-Renewal',\n",
    "    'hp1_addon_pre_ren': 'High Protection 1 Pre-Renewal',\n",
    "    'hp1_addon_post_ren': 'High Protection 1 Post-Renewal',\n",
    "    'hp2_addon_pre_ren': 'High Protection 2 Pre-Renewal',\n",
    "    'hp2_addon_post_ren': 'High Protection 2 Post-Renewal',\n",
    "    'hp3_addon_pre_ren': 'High Protection 3 Pre-Renewal',\n",
    "    'hp3_addon_post_ren': 'High Protection 3 Post-Renewal',\n",
    "    'mta_flag': 'Had Mid-Term Adjustment',\n",
    "    'mta_fap': 'MTA Fixed Amount Paid',\n",
    "    'mta_aprp': 'MTA Additional Premium',\n",
    "    'mta_date': 'MTA Date',\n",
    "    'last_ann_prem_gross': 'Last Annual Premium',\n",
    "    'pol_status': 'Policy Status',\n",
    "    'i': 'Internal ID',\n",
    "    'police': 'Police'  # keeping exactly as is\n",
    "}, inplace=True)\n"
   ]
  },
  {
   "cell_type": "code",
   "execution_count": 35,
   "id": "21f429a8",
   "metadata": {},
   "outputs": [],
   "source": [
    "# Save cleaned and renamed DataFrame to CSV\n",
    "df.to_csv(\"cleaned_home_insurance.csv\", index=False)\n"
   ]
  }
 ],
 "metadata": {
  "kernelspec": {
   "display_name": "Python 3",
   "language": "python",
   "name": "python3"
  },
  "language_info": {
   "codemirror_mode": {
    "name": "ipython",
    "version": 3
   },
   "file_extension": ".py",
   "mimetype": "text/x-python",
   "name": "python",
   "nbconvert_exporter": "python",
   "pygments_lexer": "ipython3",
   "version": "3.13.2"
  }
 },
 "nbformat": 4,
 "nbformat_minor": 5
}
